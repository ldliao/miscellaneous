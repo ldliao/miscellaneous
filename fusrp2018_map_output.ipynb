{
 "cells": [
  {
   "cell_type": "markdown",
   "metadata": {},
   "source": [
    "## Mapping FUSRP students 2010-2018"
   ]
  },
  {
   "cell_type": "code",
   "execution_count": 1,
   "metadata": {},
   "outputs": [],
   "source": [
    "# imports\n",
    "import pandas as pd\n",
    "from bokeh.plotting import figure, show, output_notebook\n",
    "from bokeh.models import ColumnDataSource, GMapOptions\n",
    "from bokeh.tile_providers import CARTODBPOSITRON\n",
    "from bokeh.transform import linear_cmap\n",
    "from bokeh.models import ColorBar, LinearColorMapper\n",
    "from bokeh.palettes import Spectral6\n",
    "from bokeh.transform import transform\n",
    "from bokeh.plotting import figure, output_file, save"
   ]
  },
  {
   "cell_type": "code",
   "execution_count": 2,
   "metadata": {},
   "outputs": [],
   "source": [
    "# Output option\n",
    "# output_notebook()\n",
    "output_file(\"fusrp_unimap.html\")"
   ]
  },
  {
   "cell_type": "code",
   "execution_count": 3,
   "metadata": {},
   "outputs": [],
   "source": [
    "from bokeh.transform import transform\n",
    "import math\n",
    "\n",
    "# range bounds supplied in web mercator coordinates\n",
    "p = figure(x_range=(-20000000, 25000000), y_range=(-4500000, 10000000),\n",
    "           x_axis_type=\"mercator\", y_axis_type=\"mercator\")\n",
    "p.add_tile(CARTODBPOSITRON)\n",
    "p.plot_height=600\n",
    "p.plot_width=900\n",
    "\n",
    "uni_df = pd.read_csv('allfusrp.csv')\n",
    "mapper = LinearColorMapper(palette=Spectral6, low=uni_df.Value.min(), high=uni_df.Value.max())\n",
    "\n",
    "def merc(pair):\n",
    "    lat, lon = pair\n",
    "    r_major = 6378137.000\n",
    "    x = r_major * math.radians(lon)\n",
    "    scale = x/lon\n",
    "    y = 180.0/math.pi * math.log(math.tan(math.pi/4.0 + \n",
    "        lat * (math.pi/180.0)/2.0)) * scale\n",
    "    return (x, y)\n",
    "\n",
    "\n",
    "fi_x, fi_y = merc((43.6588,-79.3975))\n",
    "color_bar = ColorBar(color_mapper=mapper, width=8,  location=(0,0))\n",
    "p.add_layout(color_bar, 'right')\n",
    "for index in range(len(uni_df)):\n",
    "    p.line([uni_df['lat'][index], fi_x], [uni_df['lon'][index],fi_y], line_width=2., line_color='black', line_alpha=.1)\n",
    "p.circle(x='lat',  y='lon', size=15, line_color=None, fill_color=transform('Value', mapper), fill_alpha=0.5, source=uni_df)\n",
    "p.circle(x=fi_x, y=fi_y, size=5, line_color=None, fill_color='silver', fill_alpha=0.8)\n",
    "\n",
    "show(p)"
   ]
  },
  {
   "cell_type": "code",
   "execution_count": 4,
   "metadata": {},
   "outputs": [],
   "source": [
    "from bokeh.plotting import figure, output_file, save\n"
   ]
  },
  {
   "cell_type": "code",
   "execution_count": 5,
   "metadata": {},
   "outputs": [
    {
     "data": {
      "text/plain": [
       "'C:\\\\Users\\\\Lauren\\\\Desktop\\\\fields_FUSRP\\\\socialmed_intern\\\\fusrp_unimap.html'"
      ]
     },
     "execution_count": 5,
     "metadata": {},
     "output_type": "execute_result"
    }
   ],
   "source": [
    "save(p)"
   ]
  }
 ],
 "metadata": {
  "kernelspec": {
   "display_name": "Python 3",
   "language": "python",
   "name": "python3"
  },
  "language_info": {
   "codemirror_mode": {
    "name": "ipython",
    "version": 3
   },
   "file_extension": ".py",
   "mimetype": "text/x-python",
   "name": "python",
   "nbconvert_exporter": "python",
   "pygments_lexer": "ipython3",
   "version": "3.6.4"
  }
 },
 "nbformat": 4,
 "nbformat_minor": 2
}
