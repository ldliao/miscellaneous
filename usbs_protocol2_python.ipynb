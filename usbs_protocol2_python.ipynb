{
 "cells": [
  {
   "cell_type": "markdown",
   "metadata": {},
   "source": [
    "# Protocol for identifying bird call times"
   ]
  },
  {
   "cell_type": "markdown",
   "metadata": {},
   "source": [
    "Here we examine steps in how to identify bird call times (python portion)"
   ]
  },
  {
   "cell_type": "code",
   "execution_count": 1,
   "metadata": {
    "collapsed": true
   },
   "outputs": [],
   "source": [
    "# imports\n",
    "import itertools\n",
    "import numpy as np\n",
    "import scipy as sp\n",
    "import pandas as pd\n",
    "from scipy import stats\n",
    "import pprint as pp\n",
    "import matplotlib.pyplot as plt\n",
    "import scipy.io as sio\n",
    "%matplotlib inline\n",
    "plt.style.use('seaborn-colorblind')\n",
    "plt.rcParams['image.cmap'] = 'RdBu'"
   ]
  },
  {
   "cell_type": "markdown",
   "metadata": {},
   "source": [
    "## Step 4: Heat map"
   ]
  },
  {
   "cell_type": "code",
   "execution_count": 3,
   "metadata": {},
   "outputs": [
    {
     "name": "stdout",
     "output_type": "stream",
     "text": [
      "C:\\Users\\Lauren\\Desktop\\Summer17\\CITI\\USBS\\auto_detect\n"
     ]
    }
   ],
   "source": [
    "cd ../auto_detect"
   ]
  },
  {
   "cell_type": "code",
   "execution_count": 5,
   "metadata": {},
   "outputs": [],
   "source": [
    "detected = sio.loadmat('call_times_3.mat')\n",
    "s103 = detected['call_time1'][0]\n",
    "s203 = detected['call_time2'][0]\n",
    "s303 = detected['call_time3'][0]\n",
    "s403 = detected['call_time4'][0]\n",
    "s503 = detected['call_time5'][0]\n",
    "s603 = detected['call_time6'][0]\n",
    "s_3 = [s103, s203, s303, s403, s503, s603]"
   ]
  },
  {
   "cell_type": "code",
   "execution_count": 6,
   "metadata": {
    "collapsed": true
   },
   "outputs": [],
   "source": [
    "detected = sio.loadmat('call_times_6.mat')\n",
    "s106 = detected['call_time1'][0]\n",
    "s206 = detected['call_time2'][0]\n",
    "s306 = detected['call_time3'][0]\n",
    "s406 = detected['call_time4'][0]\n",
    "s506 = detected['call_time5'][0]\n",
    "s606 = detected['call_time6'][0]\n",
    "s_6 = [s106, s206, s306, s406, s506, s606]"
   ]
  },
  {
   "cell_type": "code",
   "execution_count": 7,
   "metadata": {
    "collapsed": true
   },
   "outputs": [],
   "source": [
    "def min_heat(seg,s):\n",
    "    num = 120/seg\n",
    "    bins = np.linspace(start=0,stop=7368,num=num)\n",
    "    lst = []\n",
    "    for x in s:\n",
    "        lst.append([x for x in np.histogram(x, bins)[0]])\n",
    "\n",
    "    df3 = pd.DataFrame(lst, index=np.arange(1,7), columns=np.arange(1,num))\n",
    "    import seaborn as sns\n",
    "    ax = plt.figure(figsize=(25,8))\n",
    "    ax = sns.heatmap(df3, annot=False, fmt=\"g\", cmap='viridis', cbar_kws={'label': 'bird calls count'})"
   ]
  },
  {
   "cell_type": "code",
   "execution_count": 8,
   "metadata": {},
   "outputs": [
    {
     "data": {
      "image/png": "[encoded data removed]",
      "text/plain": [
       "<matplotlib.figure.Figure at 0x810ea20>"
      ]
     },
     "metadata": {},
     "output_type": "display_data"
    }
   ],
   "source": [
    "# 5 mins each in 2 hours\n",
    "# 3 is the morning\n",
    "min_heat(5,s_3)"
   ]
  },
  {
   "cell_type": "markdown",
   "metadata": {},
   "source": [
    "## Testing the auto-detector tool"
   ]
  },
  {
   "cell_type": "code",
   "execution_count": null,
   "metadata": {
    "collapsed": true
   },
   "outputs": [],
   "source": [
    "def bins_acc_rate(obs,tru):\n",
    "    bins = np.arange(start=0,stop=7368.9, step=0.1)\n",
    "    count = 0\n",
    "    fal = 0\n",
    "    for i in range(len(bins)-1):\n",
    "        if (obs[i] > 1 or obs[i] == 1) and (tru[i] > 1 or tru[i] == 1):\n",
    "            count = count+1\n",
    "        elif (obs[i] > 1 or obs[i] == 1) and tru[i] == 0:\n",
    "            fal = fal +1\n",
    "    return count/len(bins), fal/np.count_nonzero(obs)"
   ]
  },
  {
   "cell_type": "code",
   "execution_count": null,
   "metadata": {
    "collapsed": true
   },
   "outputs": [],
   "source": [
    "def stime_acc_rate(obs, tru):\n",
    "    #obs_lst = obs.tolist()\n",
    "    #tru_lst = tru.tolist()\n",
    "    t = len(tru)\n",
    "    count = 0\n",
    "    wrong = 0\n",
    "    a = False\n",
    "    w = 5\n",
    "    for x in obs:\n",
    "        a = False\n",
    "        for i in tru:\n",
    "             if (x < i + w or x == i + w) and (x > i - w or x == i - w):\n",
    "                count = count +1\n",
    "                tru.remove(i)\n",
    "                a = True\n",
    "        if a == False:\n",
    "            wrong = wrong +1\n",
    "            \n",
    "    return count/t, wrong/len(obs)"
   ]
  },
  {
   "cell_type": "code",
   "execution_count": null,
   "metadata": {
    "collapsed": true
   },
   "outputs": [],
   "source": [
    "# cd ../auto_detect\n",
    "def output(mat):\n",
    "    detected = sio.loadmat(mat)\n",
    "    d_time0 = detected['call_time0'][0]\n",
    "    d_time1 = detected['call_time1'][0]\n",
    "    d_time2 = detected['call_time2'][0]\n",
    "    d_time3 = detected['call_time3'][0]\n",
    "    d_time4 = detected['call_time4'][0]\n",
    "    d_time5 = detected['call_time5'][0]\n",
    "    d_time6 = detected['call_time6'][0]\n",
    "    d_time7 = detected['call_time7'][0]\n",
    "    d_time8 = detected['call_time8'][0]\n",
    "    d_time9 = detected['call_time9'][0]\n",
    "    d_time = [d_time0, d_time1, d_time2, d_time3, d_time4, d_time5, d_time6, d_time7, d_time8, d_time9]\n",
    "    drs = []\n",
    "    fars = []\n",
    "    for x in d_time:\n",
    "        dr, far = stime_acc_rate(x.tolist(),m_time.tolist())\n",
    "        drs.append(dr)\n",
    "        fars.append(far)\n",
    "    plt.plot(drs, fars)\n",
    "    plt.xlabel(\"detection rate\")\n",
    "    plt.ylabel(\"false alarm rate\");\n",
    "    #print(drs, fars)"
   ]
  },
  {
   "cell_type": "markdown",
   "metadata": {},
   "source": [
    "#### Actual by hand"
   ]
  },
  {
   "cell_type": "code",
   "execution_count": null,
   "metadata": {
    "collapsed": true
   },
   "outputs": [],
   "source": [
    "cd ../bird_times"
   ]
  },
  {
   "cell_type": "code",
   "execution_count": null,
   "metadata": {
    "collapsed": true
   },
   "outputs": [],
   "source": [
    "tbl1 = pd.read_table('303_32_3441.txt')\n",
    "tbl2 = pd.read_table('303_3441_3818.txt')\n",
    "tbl3 = pd.read_table('303.txt')\n",
    "tbl303 = pd.concat([tbl1, tbl2, tbl3])\n",
    "m_time = tbl303['Begin Time (s)']"
   ]
  },
  {
   "cell_type": "markdown",
   "metadata": {},
   "source": [
    "#### Matching"
   ]
  },
  {
   "cell_type": "code",
   "execution_count": null,
   "metadata": {
    "collapsed": true
   },
   "outputs": [],
   "source": [
    "val = 0. # this is the value where you want the data to appear on the y-axis.\n",
    "plt.plot(m_time, np.zeros_like(m_time) + val, 'x')\n",
    "val = 0.2\n",
    "plt.plot(d_time1, np.zeros_like(d_time1) + val, 'x')\n",
    "#plt.plot(d_time1_e, np.zeros_like(d_time1_e) + val, 'x')\n",
    "#list = 56500:57500;\n",
    "plt.xlim(5650,5750)\n",
    "#plt.ylim(0,0.3)\n",
    "plt.show()"
   ]
  }
 ],
 "metadata": {
  "kernelspec": {
   "display_name": "Python 3",
   "language": "python",
   "name": "python3"
  },
  "language_info": {
   "codemirror_mode": {
    "name": "ipython",
    "version": 3
   },
   "file_extension": ".py",
   "mimetype": "text/x-python",
   "name": "python",
   "nbconvert_exporter": "python",
   "pygments_lexer": "ipython3",
   "version": "3.4.0"
  }
 },
 "nbformat": 4,
 "nbformat_minor": 2
}
